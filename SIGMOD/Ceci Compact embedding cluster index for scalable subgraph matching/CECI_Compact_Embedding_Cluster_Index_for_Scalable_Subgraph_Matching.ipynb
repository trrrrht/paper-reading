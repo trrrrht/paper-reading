{
  "nbformat": 4,
  "nbformat_minor": 0,
  "metadata": {
    "colab": {
      "name": "CECI: Compact Embedding Cluster Index for Scalable Subgraph Matching",
      "provenance": [],
      "collapsed_sections": []
    },
    "kernelspec": {
      "name": "python3",
      "display_name": "Python 3"
    },
    "language_info": {
      "name": "python"
    }
  },
  "cells": [
    {
      "cell_type": "markdown",
      "source": [
        "**CECI**"
      ],
      "metadata": {
        "id": "5wF2f4acDRrs"
      }
    },
    {
      "cell_type": "markdown",
      "source": [
        "This algorithm is a bit like CFL. It use a structure called CECI to store all the tree edges and non tree edges.(The psudo code of this paper is now well written, at least for me. I have to read the source code to fully understand how the code runs)\n",
        "\n",
        "Also, this algorithm follow the classic procedure of subgraph matching. It mainly focuses on the candidate set generation part. For the last two part, it only use the basic algorithm, but with the CECI this algorithm generates.\n",
        "\n",
        "Like CFL, it first generate a BFS tree to divide tree edges and non tree edges. The difference between them is that **CFL doesn't use non tree edges while CECI store non tree edges** to prune search space as well.\n",
        "\n",
        "They initial candidate set for each node in the query graph like many other algorithm in this field, ie, **NLF, LF and DF**.\n",
        "\n",
        "Based on this, they first generate the **tree edge candidate set** to prune the total candidate set and reduce the search space.\n",
        "\n",
        "For the current node u in query graph, we should check the parent to see **if the neighbors of the parent's candidates could pass** all the filter. If yes, then these nodes may be a valid candidate for u. Otherwise, we should **delete the tree edges for all the children** of its parent.\n",
        "\n",
        "Then we generate the **non tree edge candidate set**. The process is almost the same as the tree edge part.\n",
        "\n",
        "Finally, for tree edges and non tree edges, we use **cardinalities**, a variable vector defined by the authors, to prune the search space. If a node has **multiple edges from nodes before it in the BFS tree order**, the candidates of it should be in both **tree edge and non tree edge candidate set** to be considered. The authors use this feature to prune the candidate set.\n",
        "\n",
        "This is a hard to reproduce paper if we don't see the source code."
      ],
      "metadata": {
        "id": "oZPfbieSDUfz"
      }
    },
    {
      "cell_type": "code",
      "execution_count": null,
      "metadata": {
        "id": "-w6ZC9ctDI0S",
        "colab": {
          "base_uri": "https://localhost:8080/"
        },
        "outputId": "ba0b4ba5-0713-4e0f-af75-9d473621eb8f"
      },
      "outputs": [
        {
          "output_type": "stream",
          "name": "stdout",
          "text": [
            "Cloning into 'SubgraphMatching'...\n",
            "remote: Enumerating objects: 278, done.\u001b[K\n",
            "remote: Counting objects: 100% (278/278), done.\u001b[K\n",
            "remote: Compressing objects: 100% (270/270), done.\u001b[K\n",
            "remote: Total 278 (delta 9), reused 260 (delta 3), pack-reused 0\u001b[K\n",
            "Receiving objects: 100% (278/278), 2.51 MiB | 12.30 MiB/s, done.\n",
            "Resolving deltas: 100% (9/9), done.\n"
          ]
        }
      ],
      "source": [
        "!git clone https://github.com/RapidsAtHKUST/SubgraphMatching.git"
      ]
    },
    {
      "cell_type": "code",
      "source": [
        "from collections import defaultdict"
      ],
      "metadata": {
        "id": "0O1Wghh3DQkf"
      },
      "execution_count": null,
      "outputs": []
    },
    {
      "cell_type": "code",
      "source": [
        "class graph():\n",
        "  def __init__(self, graphid, node2label, node2degree, edges):\n",
        "    self.graphid = graphid\n",
        "    self.node2label = node2label\n",
        "    self.node2degree = node2degree\n",
        "    self.edges = edges\n",
        "    self.candidateset = defaultdict(set)\n",
        "    self.label2node = defaultdict(set)\n",
        "    for node in self.node2label:\n",
        "      self.label2node[self.node2label[node]].add(node)\n",
        "    self.phi = []\n",
        "    self.phiparent = {}\n",
        "    self.te = defaultdict(lambda: defaultdict(set))\n",
        "    self.nte = defaultdict(lambda: defaultdict(set))\n",
        "\n",
        "  def reset(self):\n",
        "    self.candidateset = defaultdict(set)\n",
        "    self.phi = []\n",
        "    self.phiparent = {}\n",
        "    self.te = defaultdict(lambda: defaultdict(set))\n",
        "    self.nte = defaultdict(lambda: defaultdict(set))"
      ],
      "metadata": {
        "id": "wCEA2uYnDWSc"
      },
      "execution_count": null,
      "outputs": []
    },
    {
      "cell_type": "code",
      "source": [
        "def get_graph(filepath, filename):\n",
        "  global qcount\n",
        "  global gcount\n",
        "\n",
        "  node2label = {}\n",
        "  node2degree = {}\n",
        "  edges = defaultdict(set)\n",
        "  f = open(filepath, \"r\", encoding=\"utf-8\")\n",
        "\n",
        "  _, nodenum, edgenum = f.readline().strip().split()\n",
        "  for i in range(int(nodenum)):\n",
        "    _, nodeid, nodelabel, nodedegree = f.readline().strip().split()\n",
        "    node2label[int(nodeid)] = int(nodelabel)\n",
        "    node2degree[int(nodeid)] = int(nodedegree)  \n",
        "  for i in range(int(edgenum)):\n",
        "    _, node1, node2 = f.readline().strip().split()\n",
        "    edges[int(node1)].add(int(node2))\n",
        "    edges[int(node2)].add(int(node1))\n",
        "\n",
        "  f.close()\n",
        "  g = graph(filename, node2label, node2degree, edges)\n",
        "\n",
        "  return g"
      ],
      "metadata": {
        "id": "xEvnILLUDX0Q"
      },
      "execution_count": null,
      "outputs": []
    },
    {
      "cell_type": "code",
      "source": [
        "qcount = 0\n",
        "gcount = 0\n",
        "\n",
        "import os\n",
        "qs = []\n",
        "qdir = \"SubgraphMatching/test/query_graph\"\n",
        "for f in os.listdir(qdir):\n",
        "  filepath = os.path.join(qdir, f)\n",
        "  qs.append(get_graph(filepath, f))\n",
        "\n",
        "gs = []\n",
        "gdir = \"SubgraphMatching/test/data_graph\"\n",
        "for f in os.listdir(gdir):\n",
        "  filepath = os.path.join(gdir, f)\n",
        "  gs.append(get_graph(filepath, f))\n",
        "\n",
        "print(len(qs))\n",
        "print(len(gs))\n",
        "\n",
        "f = open(\"SubgraphMatching/test/expected_output.res\", \"r\", encoding=\"utf-8\")\n",
        "lines = f.readlines()\n",
        "f.close()\n",
        "\n",
        "expects = {}\n",
        "for line in lines:\n",
        "  name, times = line.strip().split(\":\")\n",
        "  expects[name + \".graph\"] = int(times)\n",
        "print(len(expects))"
      ],
      "metadata": {
        "id": "DMcB03bRDZM5",
        "colab": {
          "base_uri": "https://localhost:8080/"
        },
        "outputId": "bbc3e4bb-6e4a-4261-ec8a-6ca0d6ef55e7"
      },
      "execution_count": null,
      "outputs": [
        {
          "output_type": "stream",
          "name": "stdout",
          "text": [
            "200\n",
            "1\n",
            "200\n"
          ]
        }
      ]
    },
    {
      "cell_type": "code",
      "source": [
        "def CECI_CSG(q, g):\n",
        "  for qnode in q.node2label:\n",
        "    label = q.node2label[qnode]\n",
        "    for gnode in g.label2node[label]:\n",
        "      if q.node2degree[qnode] <= g.node2degree[gnode]:\n",
        "        q.candidateset[qnode].add(gnode)\n",
        "\n",
        "  qlabels = defaultdict(lambda: defaultdict(int))\n",
        "  for qnode in q.node2label:\n",
        "    qneighbors = q.edges[qnode]\n",
        "    for qneighbor in qneighbors:\n",
        "      qlabels[qnode][q.node2label[qneighbor]] += 1\n",
        "  \n",
        "  glabels = defaultdict(lambda: defaultdict(int))\n",
        "  for gnode in g.node2label:\n",
        "    gneighbors = g.edges[gnode]\n",
        "    for gneighbor in gneighbors:\n",
        "      glabels[gnode][g.node2label[gneighbor]] += 1\n",
        "  \n",
        "  for qnode in q.node2label:\n",
        "    for gnode in q.candidateset[qnode].copy():\n",
        "      for label in qlabels[qnode]:\n",
        "        if qlabels[qnode][label] > glabels[gnode][label]:\n",
        "          q.candidateset[qnode].remove(gnode)\n",
        "          break\n",
        "\n",
        "  for qnode in q.node2label:\n",
        "    qneighbors = q.edges[qnode]\n",
        "    for qneighbor in qneighbors:\n",
        "      for nodecandidate in q.candidateset[qnode].copy():\n",
        "        if len(g.edges[nodecandidate] & q.candidateset[qneighbor]) == 0:\n",
        "          q.candidateset[qnode].remove(nodecandidate)\n",
        "        \n",
        "\n",
        "  scores = {}\n",
        "  for qnode in q.node2label:\n",
        "    scores[qnode] = len(q.candidateset[qnode]) / q.node2degree[qnode]\n",
        "  \n",
        "  r = min(scores, key=scores.get)\n",
        "  \n",
        "\n",
        "  visited = set()\n",
        "  queue = []\n",
        "  visited.add(r)\n",
        "  queue.append(r)\n",
        "  q.phiparent[r] = -1\n",
        "  q.phi.append(r)\n",
        "  while queue:\n",
        "    top = queue[0]\n",
        "    queue.pop(0)\n",
        "    for neighbor in q.edges[top]:\n",
        "      if neighbor not in visited:\n",
        "        visited.add(neighbor)\n",
        "        queue.append(neighbor)\n",
        "        q.phiparent[neighbor] = top\n",
        "        q.phi.append(neighbor)\n",
        "  \n",
        "  parent2children = defaultdict(set)\n",
        "  for child in q.phiparent:\n",
        "    parent2children[q.phiparent[child]].add(child)\n",
        "  \n",
        "  cardinalities = defaultdict(lambda: defaultdict(int))\n",
        "  for qnode in q.node2label:\n",
        "    for qcandidate in q.candidateset[qnode]:\n",
        "      cardinalities[qnode][qcandidate] = 1\n",
        "\n",
        "\n",
        "  visited = set()\n",
        "  for i in range(len(q.phi)):\n",
        "    u = q.phi[i]\n",
        "    visited.add(u)\n",
        "    up = q.phiparent[u]\n",
        "    for vf in q.candidateset[up].copy():\n",
        "      vfneighbors = g.edges[vf].copy()\n",
        "      vfneighbors &= g.label2node[q.node2label[u]]\n",
        "      for vfneighbor in vfneighbors:\n",
        "        if g.node2degree[vfneighbor] < q.node2degree[u]:\n",
        "          continue\n",
        "        \n",
        "        nlcf = True\n",
        "        qlabels = defaultdict(int)\n",
        "        qneighbors = q.edges[u]\n",
        "        for qneighbor in qneighbors:\n",
        "          qlabels[q.node2label[qneighbor]] += 1\n",
        "        \n",
        "        glabels = defaultdict(int)\n",
        "        gneighbors = g.edges[vfneighbor]\n",
        "        for gneighbor in gneighbors:\n",
        "          glabels[g.node2label[gneighbor]] += 1\n",
        "        \n",
        "        for label in qlabels:\n",
        "          if qlabels[label] > glabels[label]:\n",
        "            nlcf = False\n",
        "            break\n",
        "        \n",
        "        if not nlcf:\n",
        "          continue\n",
        "        \n",
        "        q.candidateset[u].add(vfneighbor)\n",
        "        q.te[u][vf].add(vfneighbor)\n",
        "      if len(q.te[u][vf]) == 0:\n",
        "        q.candidateset[up].remove(vf)\n",
        "        for child in parent2children[up]:\n",
        "          if child not in visited:\n",
        "            continue\n",
        "          if vf in q.te[child]:\n",
        "            q.te[child].pop(vf)\n",
        "        cardinalities[up][vf] = 0\n",
        "\n",
        "  for i in range(len(q.phi)):\n",
        "    u = q.phi[i]\n",
        "    for j in range(0, i):\n",
        "      up = q.phi[j]\n",
        "      if up not in q.edges[u]:\n",
        "        continue\n",
        "      if up == q.phiparent[u]:\n",
        "        continue\n",
        "      for vf in q.candidateset[up].copy():\n",
        "        vfneighbors = g.edges[vf].copy()\n",
        "        vfneighbors &= g.label2node[q.node2label[u]]\n",
        "        for vfneighbor in vfneighbors:\n",
        "          if g.node2degree[vfneighbor] < q.node2degree[u]:\n",
        "            continue\n",
        "          \n",
        "          nlcf = True\n",
        "          qlabels = defaultdict(int)\n",
        "          qneighbors = q.edges[u]\n",
        "          for qneighbor in qneighbors:\n",
        "            qlabels[q.node2label[qneighbor]] += 1\n",
        "          \n",
        "          glabels = defaultdict(int)\n",
        "          gneighbors = g.edges[vfneighbor]\n",
        "          for gneighbor in gneighbors:\n",
        "            glabels[g.node2label[gneighbor]] += 1\n",
        "          \n",
        "          for label in qlabels:\n",
        "            if qlabels[label] > glabels[label]:\n",
        "              nlcf = False\n",
        "              break\n",
        "          \n",
        "          if not nlcf:\n",
        "            continue\n",
        "          \n",
        "          q.candidateset[u].add(vfneighbor)\n",
        "          q.nte[u][vf].add(vfneighbor)\n",
        "        if len(q.nte[u][vf]) == 0:\n",
        "          cardinalities[up][vf] = 0\n",
        "          q.candidateset[up].remove(vf)\n",
        "\n",
        "\n",
        "  reverseorder = q.phi.copy()\n",
        "  reverseorder.reverse()\n",
        "\n",
        "  \n",
        "  for u in reverseorder:\n",
        "    up = q.phiparent[u]\n",
        "    for vp in q.te[u]:\n",
        "      score = 0\n",
        "      for v in q.te[u][vp].copy():\n",
        "        score += cardinalities[u][v]\n",
        "        if cardinalities[u][v] == 0:\n",
        "          if v in q.candidateset[u]:\n",
        "            q.candidateset[u].remove(v)\n",
        "          q.te[u][vp].remove(v)\n",
        "      cardinalities[up][vp] *= score\n",
        "\n",
        "\n",
        "  for u in q.nte:\n",
        "    for vf in q.nte[u].copy():\n",
        "      if len(q.nte[u][vf]) == 0:\n",
        "        q.nte[u].pop(vf)\n",
        "  \n",
        "  for u in q.nte.copy():\n",
        "    if len(q.nte[u]) == 0:\n",
        "      q.nte.pop(u)\n",
        "\n",
        "  for u in q.te:\n",
        "    for vf in q.te[u].copy():\n",
        "      if len(q.te[u][vf]) == 0:\n",
        "        q.te[u].pop(vf)\n",
        "  \n",
        "  for u in q.te.copy():\n",
        "    if len(q.te[u]) == 0:\n",
        "      q.te.pop(u) \n"
      ],
      "metadata": {
        "id": "kH97XGtfDbQC"
      },
      "execution_count": null,
      "outputs": []
    },
    {
      "cell_type": "code",
      "source": [
        "def CECI_MOG(q):\n",
        "  '''\n",
        "  already generated by the BFS order\n",
        "  '''\n",
        "  return"
      ],
      "metadata": {
        "id": "AXtGCGp6Dj0_"
      },
      "execution_count": null,
      "outputs": []
    },
    {
      "cell_type": "code",
      "source": [
        "def CECI_EP(q, g, m, i, totalresult): # not equal to the original code\n",
        "  if i == len(q.phi) + 1:\n",
        "    totalresult.append(m.copy())\n",
        "    return \n",
        "  result = {}\n",
        "  u = -1\n",
        "  for node in q.phi:\n",
        "    if node not in m:\n",
        "      u = node\n",
        "      break\n",
        "\n",
        "  lc = set()\n",
        "\n",
        "  if i == 1:\n",
        "    lc = q.candidateset[u]\n",
        "  elif q.phi.index(u) == 1:\n",
        "    lc = q.te[u][m[q.phiparent[u]]] | q.nte[u][m[q.phiparent[u]]]\n",
        "  else:\n",
        "    tmp = set()\n",
        "    for node in q.phi:\n",
        "      if node == u:\n",
        "        break\n",
        "      if u not in q.edges[node]:\n",
        "        continue\n",
        "      if tmp:\n",
        "        tmp &= q.te[u][m[node]] | q.nte[u][m[node]]\n",
        "      else:\n",
        "        tmp = q.te[u][m[node]] | q.nte[u][m[node]]\n",
        "\n",
        "    for v in tmp:\n",
        "      if q.node2label[u] == g.node2label[v] and g.node2degree[v] >= q.node2degree[u]:\n",
        "        flag = True\n",
        "        for node in q.phi:\n",
        "          if node == u:\n",
        "            break\n",
        "          if node == q.phiparent[u]:\n",
        "            continue\n",
        "          #if m[node] not in g.edges[v]:\n",
        "          if v == m[node] or (m[node] not in g.edges[v] and (node in q.edges[u] or u in q.edges[node])):\n",
        "            flag = False\n",
        "            break\n",
        "        if flag:\n",
        "          lc.add(v)\n",
        "\n",
        "\n",
        "  for node in lc:\n",
        "    if node not in set(m.values()):\n",
        "      m[u] = node\n",
        "      CECI_EP(q, g, m, i + 1, totalresult)\n",
        "      m.pop(u)\n"
      ],
      "metadata": {
        "id": "-1as5W75DkwG"
      },
      "execution_count": null,
      "outputs": []
    },
    {
      "cell_type": "code",
      "source": [
        "queries = {}\n",
        "\n",
        "for g in gs:\n",
        "  for q in qs:\n",
        "    q.reset()\n",
        "    \n",
        "    CECI_CSG(q, g)\n",
        "    CECI_MOG(q)\n",
        "\n",
        "    totalresult = []\n",
        "    \n",
        "    CECI_EP(q, g, {}, 1, totalresult)\n",
        "\n",
        "    queries[q.graphid] = len(totalresult)\n",
        "\n",
        "print(queries)"
      ],
      "metadata": {
        "id": "rq__GrziDq4_",
        "colab": {
          "base_uri": "https://localhost:8080/"
        },
        "outputId": "bcef7b0e-b763-4464-e688-67c954f527a5"
      },
      "execution_count": null,
      "outputs": [
        {
          "output_type": "stream",
          "name": "stdout",
          "text": [
            "{'query_dense_16_25.graph': 4, 'query_dense_16_18.graph': 2, 'query_dense_16_2.graph': 80, 'query_dense_16_114.graph': 4, 'query_dense_16_81.graph': 124, 'query_dense_16_52.graph': 6, 'query_dense_16_163.graph': 8, 'query_dense_16_105.graph': 2, 'query_dense_16_93.graph': 22, 'query_dense_16_122.graph': 16, 'query_dense_16_66.graph': 3, 'query_dense_16_178.graph': 1, 'query_dense_16_162.graph': 48, 'query_dense_16_20.graph': 2, 'query_dense_16_86.graph': 1, 'query_dense_16_72.graph': 24, 'query_dense_16_131.graph': 3, 'query_dense_16_197.graph': 8, 'query_dense_16_147.graph': 1526, 'query_dense_16_151.graph': 138, 'query_dense_16_99.graph': 260, 'query_dense_16_60.graph': 10, 'query_dense_16_112.graph': 2, 'query_dense_16_111.graph': 2, 'query_dense_16_169.graph': 44, 'query_dense_16_5.graph': 4, 'query_dense_16_15.graph': 60, 'query_dense_16_107.graph': 21, 'query_dense_16_157.graph': 2, 'query_dense_16_193.graph': 2, 'query_dense_16_31.graph': 8, 'query_dense_16_139.graph': 12, 'query_dense_16_41.graph': 8, 'query_dense_16_40.graph': 12, 'query_dense_16_132.graph': 20, 'query_dense_16_59.graph': 1680, 'query_dense_16_125.graph': 8, 'query_dense_16_7.graph': 2, 'query_dense_16_57.graph': 3, 'query_dense_16_36.graph': 3, 'query_dense_16_54.graph': 33, 'query_dense_16_103.graph': 48, 'query_dense_16_13.graph': 12, 'query_dense_16_6.graph': 132, 'query_dense_16_171.graph': 14, 'query_dense_16_185.graph': 44, 'query_dense_16_167.graph': 6, 'query_dense_16_11.graph': 288, 'query_dense_16_34.graph': 2, 'query_dense_16_76.graph': 41, 'query_dense_16_129.graph': 8, 'query_dense_16_22.graph': 9, 'query_dense_16_115.graph': 10, 'query_dense_16_100.graph': 16, 'query_dense_16_124.graph': 2, 'query_dense_16_200.graph': 4, 'query_dense_16_51.graph': 50, 'query_dense_16_38.graph': 180, 'query_dense_16_58.graph': 3, 'query_dense_16_88.graph': 12, 'query_dense_16_63.graph': 44, 'query_dense_16_177.graph': 72, 'query_dense_16_68.graph': 256, 'query_dense_16_136.graph': 1, 'query_dense_16_161.graph': 44, 'query_dense_16_158.graph': 2, 'query_dense_16_149.graph': 1, 'query_dense_16_64.graph': 1, 'query_dense_16_104.graph': 38, 'query_dense_16_119.graph': 8, 'query_dense_16_49.graph': 178, 'query_dense_16_45.graph': 8, 'query_dense_16_173.graph': 24, 'query_dense_16_110.graph': 2, 'query_dense_16_186.graph': 10, 'query_dense_16_199.graph': 2, 'query_dense_16_39.graph': 1, 'query_dense_16_28.graph': 5, 'query_dense_16_87.graph': 12, 'query_dense_16_26.graph': 17, 'query_dense_16_172.graph': 16, 'query_dense_16_17.graph': 4, 'query_dense_16_95.graph': 354, 'query_dense_16_170.graph': 18, 'query_dense_16_175.graph': 8, 'query_dense_16_14.graph': 2, 'query_dense_16_148.graph': 2, 'query_dense_16_146.graph': 24, 'query_dense_16_46.graph': 30, 'query_dense_16_116.graph': 1, 'query_dense_16_71.graph': 9, 'query_dense_16_89.graph': 12, 'query_dense_16_196.graph': 2, 'query_dense_16_43.graph': 3, 'query_dense_16_32.graph': 2, 'query_dense_16_191.graph': 4, 'query_dense_16_78.graph': 12, 'query_dense_16_92.graph': 18, 'query_dense_16_48.graph': 4, 'query_dense_16_130.graph': 16, 'query_dense_16_29.graph': 24, 'query_dense_16_134.graph': 17, 'query_dense_16_121.graph': 30, 'query_dense_16_47.graph': 16, 'query_dense_16_154.graph': 12, 'query_dense_16_79.graph': 2, 'query_dense_16_123.graph': 1, 'query_dense_16_61.graph': 40, 'query_dense_16_142.graph': 16, 'query_dense_16_117.graph': 4, 'query_dense_16_144.graph': 1, 'query_dense_16_108.graph': 46, 'query_dense_16_102.graph': 8, 'query_dense_16_118.graph': 136, 'query_dense_16_67.graph': 1, 'query_dense_16_140.graph': 8, 'query_dense_16_181.graph': 8, 'query_dense_16_101.graph': 2, 'query_dense_16_16.graph': 4, 'query_dense_16_1.graph': 3, 'query_dense_16_109.graph': 68, 'query_dense_16_33.graph': 4, 'query_dense_16_145.graph': 1, 'query_dense_16_128.graph': 104, 'query_dense_16_133.graph': 6, 'query_dense_16_27.graph': 8, 'query_dense_16_198.graph': 15, 'query_dense_16_160.graph': 2688, 'query_dense_16_82.graph': 12, 'query_dense_16_194.graph': 1, 'query_dense_16_80.graph': 13, 'query_dense_16_75.graph': 32, 'query_dense_16_44.graph': 12, 'query_dense_16_30.graph': 2, 'query_dense_16_195.graph': 2, 'query_dense_16_19.graph': 2, 'query_dense_16_187.graph': 2, 'query_dense_16_42.graph': 32, 'query_dense_16_90.graph': 1564, 'query_dense_16_37.graph': 1, 'query_dense_16_3.graph': 8, 'query_dense_16_73.graph': 6, 'query_dense_16_23.graph': 6, 'query_dense_16_113.graph': 6, 'query_dense_16_35.graph': 2, 'query_dense_16_56.graph': 4, 'query_dense_16_179.graph': 184, 'query_dense_16_62.graph': 8, 'query_dense_16_192.graph': 4, 'query_dense_16_126.graph': 156, 'query_dense_16_188.graph': 8, 'query_dense_16_174.graph': 6, 'query_dense_16_65.graph': 2, 'query_dense_16_166.graph': 128, 'query_dense_16_106.graph': 2, 'query_dense_16_165.graph': 208, 'query_dense_16_176.graph': 12, 'query_dense_16_164.graph': 480, 'query_dense_16_152.graph': 432, 'query_dense_16_50.graph': 88, 'query_dense_16_21.graph': 2, 'query_dense_16_182.graph': 54, 'query_dense_16_156.graph': 6, 'query_dense_16_135.graph': 6, 'query_dense_16_143.graph': 4, 'query_dense_16_12.graph': 2, 'query_dense_16_84.graph': 8, 'query_dense_16_184.graph': 60, 'query_dense_16_98.graph': 8, 'query_dense_16_8.graph': 560, 'query_dense_16_91.graph': 3, 'query_dense_16_183.graph': 4, 'query_dense_16_69.graph': 1, 'query_dense_16_180.graph': 1, 'query_dense_16_138.graph': 12, 'query_dense_16_24.graph': 12, 'query_dense_16_141.graph': 20, 'query_dense_16_4.graph': 6, 'query_dense_16_159.graph': 12, 'query_dense_16_97.graph': 56, 'query_dense_16_120.graph': 24, 'query_dense_16_10.graph': 32, 'query_dense_16_137.graph': 5, 'query_dense_16_155.graph': 16, 'query_dense_16_153.graph': 10, 'query_dense_16_74.graph': 8, 'query_dense_16_55.graph': 1, 'query_dense_16_85.graph': 19, 'query_dense_16_83.graph': 3, 'query_dense_16_53.graph': 12, 'query_dense_16_127.graph': 12, 'query_dense_16_96.graph': 17, 'query_dense_16_94.graph': 2, 'query_dense_16_189.graph': 1, 'query_dense_16_70.graph': 42, 'query_dense_16_150.graph': 6, 'query_dense_16_168.graph': 75, 'query_dense_16_77.graph': 4, 'query_dense_16_9.graph': 42, 'query_dense_16_190.graph': 3}\n"
          ]
        }
      ]
    },
    {
      "cell_type": "code",
      "source": [
        "flag = True\n",
        "for name in expects:\n",
        "  if expects[name] != queries[name]:\n",
        "    print(name)\n",
        "    print(expects[name])\n",
        "    print(queries[name])\n",
        "    flag = False\n",
        "if flag:\n",
        "  print(\"correct\")"
      ],
      "metadata": {
        "id": "Usar4GWVD7pc",
        "colab": {
          "base_uri": "https://localhost:8080/"
        },
        "outputId": "87b73421-8caf-4415-a65e-a72d859d32e8"
      },
      "execution_count": null,
      "outputs": [
        {
          "output_type": "stream",
          "name": "stdout",
          "text": [
            "correct\n"
          ]
        }
      ]
    }
  ]
}