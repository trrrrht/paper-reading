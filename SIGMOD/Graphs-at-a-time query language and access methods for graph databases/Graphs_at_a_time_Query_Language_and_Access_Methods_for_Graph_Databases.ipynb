{
  "nbformat": 4,
  "nbformat_minor": 0,
  "metadata": {
    "colab": {
      "name": "Graphs-at-a-time: Query Language and Access Methods for Graph Databases",
      "provenance": [],
      "collapsed_sections": []
    },
    "kernelspec": {
      "name": "python3",
      "display_name": "Python 3"
    },
    "language_info": {
      "name": "python"
    }
  },
  "cells": [
    {
      "cell_type": "markdown",
      "source": [
        "**GraphQL**"
      ],
      "metadata": {
        "id": "q1V7X7Tp30RI"
      }
    },
    {
      "cell_type": "markdown",
      "source": [
        "This is a rule based subgraph matching algorithm, mainly focusing on the reduction of search space part. To be specific, it proposes a great solution to reduce the search space for **candidate set**.\n",
        "\n",
        "In the initial generation of candidate set, graphQL implements the simplest way, that is, adding all the nodes in graph data with **same label** to nodes in query data as candidate set.\n",
        "\n",
        "And then, the authors try to use the **neighborhood subgraph profiles** of the nodes in query graph to reduce the search space. Basically, they just check whether all neighbors of a node in the query graph have candidate in all the neighbors of its candidate node in graph data, which is called **semi-perfect matching**. If yes, then this could be a valid mapping. Otherwise, we should remove the corresponding node pair, because although they have the same label, their neighbors could not match with each other. In this case, we would remove this this node in graph data from the candidate set of the node in query graph. As we remove possible candidate, this can **influence** whether the neighbors could form a semi-perfect matching. Thus, the more **iteration** we do, the more refine our candidate set would be(if possible). This iteration would be considered as **refinement level**.\n",
        "\n",
        "To **speed up** the finding of semi-perfect matching, the authors use a small technique. If two nodes are consider to be semi-perfect matching, they will **not check them again in the next level of refinement**. Otherwise, we should first remove this candidate from the node's candidate set and then **mark the neighbors corresponding pair as unchecked**, because when we remove a candidate, it may also influence whether the neighbors could form a semi-perfect matching.\n",
        "\n",
        "In the field of subgraph matching, the baseline of matching order generation is that we iteratively add the node with **smallest size** of candidate set until we run out of nodes(The relatively smaller candidate set usually represents **larger degree** and **more sure** about the candidate chosen).\n",
        "\n",
        "Finally, they use the baseline of enumeration procedure, that is, checking the each node step by step and while checking the current node, avoiding the node that has been matched in the sequence before it."
      ],
      "metadata": {
        "id": "rjksuXEt32vs"
      }
    },
    {
      "cell_type": "code",
      "execution_count": null,
      "metadata": {
        "id": "qeugKHox3zYJ",
        "colab": {
          "base_uri": "https://localhost:8080/"
        },
        "outputId": "5a33c8a0-25a7-4743-b705-75e11d56998b"
      },
      "outputs": [
        {
          "output_type": "stream",
          "name": "stdout",
          "text": [
            "Cloning into 'SubgraphMatching'...\n",
            "remote: Enumerating objects: 278, done.\u001b[K\n",
            "remote: Counting objects: 100% (278/278), done.\u001b[K\n",
            "remote: Compressing objects: 100% (270/270), done.\u001b[K\n",
            "remote: Total 278 (delta 9), reused 260 (delta 3), pack-reused 0\u001b[K\n",
            "Receiving objects: 100% (278/278), 2.51 MiB | 12.54 MiB/s, done.\n",
            "Resolving deltas: 100% (9/9), done.\n"
          ]
        }
      ],
      "source": [
        "!git clone https://github.com/RapidsAtHKUST/SubgraphMatching.git"
      ]
    },
    {
      "cell_type": "code",
      "source": [
        "from collections import defaultdict"
      ],
      "metadata": {
        "id": "xRioXMNQ3_kc"
      },
      "execution_count": null,
      "outputs": []
    },
    {
      "cell_type": "code",
      "source": [
        "class graph():\n",
        "  def __init__(self, graphid, node2label, node2degree, edges):\n",
        "    self.graphid = graphid\n",
        "    self.node2label = node2label\n",
        "    self.node2degree = node2degree\n",
        "    self.edges = edges\n",
        "    self.candidateset = defaultdict(set)\n",
        "    self.label2node = defaultdict(set)\n",
        "    for node in self.node2label:\n",
        "      self.label2node[self.node2label[node]].add(node)\n",
        "    self.phi = []\n",
        "\n",
        "  def reset(self):\n",
        "    self.candidateset = defaultdict(set)\n",
        "    self.phi = []"
      ],
      "metadata": {
        "id": "ivPm7L_Q4A1M"
      },
      "execution_count": null,
      "outputs": []
    },
    {
      "cell_type": "code",
      "source": [
        "def get_graph(filepath, filename):\n",
        "  global qcount\n",
        "  global gcount\n",
        "\n",
        "  node2label = {}\n",
        "  node2degree = {}\n",
        "  edges = defaultdict(set)\n",
        "  f = open(filepath, \"r\", encoding=\"utf-8\")\n",
        "\n",
        "  _, nodenum, edgenum = f.readline().strip().split()\n",
        "  for i in range(int(nodenum)):\n",
        "    _, nodeid, nodelabel, nodedegree = f.readline().strip().split()\n",
        "    node2label[int(nodeid)] = int(nodelabel)\n",
        "    node2degree[int(nodeid)] = int(nodedegree)  \n",
        "  for i in range(int(edgenum)):\n",
        "    _, node1, node2 = f.readline().strip().split()\n",
        "    edges[int(node1)].add(int(node2))\n",
        "    edges[int(node2)].add(int(node1))\n",
        "\n",
        "  f.close()\n",
        "  g = graph(filename, node2label, node2degree, edges)\n",
        "\n",
        "  return g"
      ],
      "metadata": {
        "id": "OuOlHl0T4BRi"
      },
      "execution_count": null,
      "outputs": []
    },
    {
      "cell_type": "code",
      "source": [
        "qcount = 0\n",
        "gcount = 0\n",
        "\n",
        "import os\n",
        "qs = []\n",
        "qdir = \"SubgraphMatching/test/query_graph\"\n",
        "for f in os.listdir(qdir):\n",
        "  filepath = os.path.join(qdir, f)\n",
        "  qs.append(get_graph(filepath, f))\n",
        "\n",
        "gs = []\n",
        "gdir = \"SubgraphMatching/test/data_graph\"\n",
        "for f in os.listdir(gdir):\n",
        "  filepath = os.path.join(gdir, f)\n",
        "  gs.append(get_graph(filepath, f))\n",
        "\n",
        "print(len(qs))\n",
        "print(len(gs))\n",
        "\n",
        "f = open(\"SubgraphMatching/test/expected_output.res\", \"r\", encoding=\"utf-8\")\n",
        "lines = f.readlines()\n",
        "f.close()\n",
        "\n",
        "expects = {}\n",
        "for line in lines:\n",
        "  name, times = line.strip().split(\":\")\n",
        "  expects[name + \".graph\"] = int(times)\n",
        "print(len(expects))"
      ],
      "metadata": {
        "id": "duN2jjKK4C6V",
        "colab": {
          "base_uri": "https://localhost:8080/"
        },
        "outputId": "a251695a-1b21-41d5-fe76-e5240c4e960d"
      },
      "execution_count": null,
      "outputs": [
        {
          "output_type": "stream",
          "name": "stdout",
          "text": [
            "200\n",
            "1\n",
            "200\n"
          ]
        }
      ]
    },
    {
      "cell_type": "code",
      "source": [
        "def graphQL_CSG(q, g, level):\n",
        "  marks = set()\n",
        "  for qnode in q.node2label:\n",
        "    label = q.node2label[qnode]\n",
        "    q.candidateset[qnode] |= g.label2node[label]\n",
        "    for gnode in q.candidateset[qnode]:\n",
        "      marks.add((qnode, gnode))\n",
        "  \n",
        "  for i in range(level):\n",
        "    for qnode in q.node2label:\n",
        "      for gnode in q.candidateset[qnode].copy():\n",
        "        mark = (qnode, gnode)\n",
        "        if mark not in marks:\n",
        "          continue\n",
        "        \n",
        "        b = set()\n",
        "        qneighbors = q.edges[qnode]\n",
        "        gneighbors = g.edges[gnode]\n",
        "        for qneighbor in qneighbors:\n",
        "          for gneighbor in gneighbors:\n",
        "            if gneighbor in q.candidateset[qneighbor]:\n",
        "              b.add(qneighbor)\n",
        "              break\n",
        "        \n",
        "        semiperfect = qneighbors - b\n",
        "        if len(semiperfect) == 0:\n",
        "          marks.remove(mark)\n",
        "        else:\n",
        "          q.candidateset[qnode].remove(gnode)\n",
        "          for qneighbor in qneighbors:\n",
        "            for gneighbor in gneighbors:\n",
        "              if gneighbor in q.candidateset[qneighbor]:\n",
        "                mark = (qneighbor, gneighbor)\n",
        "                marks.add(mark)\n",
        "\n",
        "    if len(marks) == 0:\n",
        "      break"
      ],
      "metadata": {
        "id": "V7M5F6Tl4DIW"
      },
      "execution_count": null,
      "outputs": []
    },
    {
      "cell_type": "code",
      "source": [
        "def graphQL_MOG(q):\n",
        "  argminc = {}\n",
        "  for node in q.candidateset:\n",
        "    argminc[node] = len(q.candidateset[node])\n",
        "  \n",
        "  cur = min(argminc, key=argminc.get)\n",
        "  visited = set()\n",
        "  while (1):\n",
        "    q.phi.append(cur)\n",
        "    visited.add(cur)\n",
        "    if len(q.phi) == len(q.node2label):\n",
        "      break\n",
        "    tmp = {}\n",
        "    for node in q.phi:\n",
        "      for neighbor in q.edges[node]:\n",
        "        if neighbor not in visited:\n",
        "          tmp[neighbor] = len(q.candidateset[neighbor])\n",
        "    cur = min(tmp, key=tmp.get)"
      ],
      "metadata": {
        "id": "DE7XqaSR4Jv8"
      },
      "execution_count": null,
      "outputs": []
    },
    {
      "cell_type": "code",
      "source": [
        "def graphQL_EP(q, g, m, i, totalresult): # not equal to the original code\n",
        "  if i == len(q.phi) + 1:\n",
        "    totalresult.append(m.copy())\n",
        "    return \n",
        "  result = {}\n",
        "  u = -1\n",
        "  for node in q.phi:\n",
        "    if node not in m:\n",
        "      u = node\n",
        "      break\n",
        "\n",
        "  lc = set()\n",
        "\n",
        "  if i == 1:\n",
        "    lc = q.candidateset[u]\n",
        "  else:\n",
        "    for v in q.candidateset[u]:\n",
        "      flag = True\n",
        "      for node in q.phi:\n",
        "        if node == u:\n",
        "          break\n",
        "        if v == m[node] or (m[node] not in g.edges[v] and (node in q.edges[u] or u in q.edges[node])):\n",
        "          flag = False\n",
        "          break\n",
        "      if flag:\n",
        "        lc.add(v)\n",
        "\n",
        "  for node in lc:\n",
        "    if node not in set(m.values()):\n",
        "      m[u] = node\n",
        "      graphQL_EP(q, g, m, i + 1, totalresult)\n",
        "      m.pop(u)"
      ],
      "metadata": {
        "id": "SljsTQM64KF5"
      },
      "execution_count": null,
      "outputs": []
    },
    {
      "cell_type": "code",
      "source": [
        "queries = {}\n",
        "for g in gs:\n",
        "  for q in qs:\n",
        "    q.reset()\n",
        "    graphQL_CSG(q, g, 10)\n",
        "    graphQL_MOG(q)\n",
        "    totalresult = []\n",
        "    graphQL_EP(q, g, {}, 1, totalresult)\n",
        "    queries[q.graphid] = len(totalresult)\n",
        "\n",
        "print(queries)"
      ],
      "metadata": {
        "id": "jNGdwO8O4F0C",
        "colab": {
          "base_uri": "https://localhost:8080/"
        },
        "outputId": "c4e68fcd-ff75-4960-f53a-e2bfa65a2c61"
      },
      "execution_count": null,
      "outputs": [
        {
          "output_type": "stream",
          "name": "stdout",
          "text": [
            "{'query_dense_16_170.graph': 18, 'query_dense_16_50.graph': 88, 'query_dense_16_72.graph': 24, 'query_dense_16_152.graph': 432, 'query_dense_16_86.graph': 1, 'query_dense_16_151.graph': 138, 'query_dense_16_95.graph': 354, 'query_dense_16_76.graph': 41, 'query_dense_16_168.graph': 75, 'query_dense_16_9.graph': 42, 'query_dense_16_181.graph': 8, 'query_dense_16_94.graph': 2, 'query_dense_16_88.graph': 12, 'query_dense_16_154.graph': 12, 'query_dense_16_37.graph': 1, 'query_dense_16_180.graph': 1, 'query_dense_16_164.graph': 480, 'query_dense_16_113.graph': 6, 'query_dense_16_188.graph': 8, 'query_dense_16_104.graph': 38, 'query_dense_16_42.graph': 32, 'query_dense_16_124.graph': 2, 'query_dense_16_174.graph': 6, 'query_dense_16_71.graph': 9, 'query_dense_16_87.graph': 12, 'query_dense_16_39.graph': 1, 'query_dense_16_65.graph': 2, 'query_dense_16_11.graph': 288, 'query_dense_16_14.graph': 2, 'query_dense_16_145.graph': 1, 'query_dense_16_30.graph': 2, 'query_dense_16_58.graph': 3, 'query_dense_16_135.graph': 6, 'query_dense_16_48.graph': 4, 'query_dense_16_123.graph': 1, 'query_dense_16_191.graph': 4, 'query_dense_16_169.graph': 44, 'query_dense_16_49.graph': 178, 'query_dense_16_17.graph': 4, 'query_dense_16_160.graph': 2688, 'query_dense_16_55.graph': 1, 'query_dense_16_175.graph': 8, 'query_dense_16_119.graph': 8, 'query_dense_16_79.graph': 2, 'query_dense_16_133.graph': 6, 'query_dense_16_190.graph': 3, 'query_dense_16_102.graph': 8, 'query_dense_16_15.graph': 60, 'query_dense_16_163.graph': 8, 'query_dense_16_157.graph': 2, 'query_dense_16_96.graph': 17, 'query_dense_16_179.graph': 184, 'query_dense_16_70.graph': 42, 'query_dense_16_183.graph': 4, 'query_dense_16_33.graph': 4, 'query_dense_16_111.graph': 2, 'query_dense_16_118.graph': 136, 'query_dense_16_177.graph': 72, 'query_dense_16_34.graph': 2, 'query_dense_16_144.graph': 1, 'query_dense_16_27.graph': 8, 'query_dense_16_54.graph': 33, 'query_dense_16_62.graph': 8, 'query_dense_16_138.graph': 12, 'query_dense_16_156.graph': 6, 'query_dense_16_187.graph': 2, 'query_dense_16_69.graph': 1, 'query_dense_16_196.graph': 2, 'query_dense_16_167.graph': 6, 'query_dense_16_46.graph': 30, 'query_dense_16_147.graph': 1526, 'query_dense_16_1.graph': 3, 'query_dense_16_28.graph': 5, 'query_dense_16_18.graph': 2, 'query_dense_16_161.graph': 44, 'query_dense_16_23.graph': 6, 'query_dense_16_139.graph': 12, 'query_dense_16_6.graph': 132, 'query_dense_16_198.graph': 15, 'query_dense_16_26.graph': 17, 'query_dense_16_116.graph': 1, 'query_dense_16_158.graph': 2, 'query_dense_16_85.graph': 19, 'query_dense_16_114.graph': 4, 'query_dense_16_91.graph': 3, 'query_dense_16_66.graph': 3, 'query_dense_16_57.graph': 3, 'query_dense_16_159.graph': 12, 'query_dense_16_20.graph': 2, 'query_dense_16_21.graph': 2, 'query_dense_16_108.graph': 46, 'query_dense_16_185.graph': 44, 'query_dense_16_83.graph': 3, 'query_dense_16_35.graph': 2, 'query_dense_16_173.graph': 24, 'query_dense_16_32.graph': 2, 'query_dense_16_68.graph': 256, 'query_dense_16_7.graph': 2, 'query_dense_16_60.graph': 10, 'query_dense_16_106.graph': 2, 'query_dense_16_92.graph': 18, 'query_dense_16_52.graph': 6, 'query_dense_16_16.graph': 4, 'query_dense_16_81.graph': 124, 'query_dense_16_143.graph': 4, 'query_dense_16_142.graph': 16, 'query_dense_16_165.graph': 208, 'query_dense_16_97.graph': 56, 'query_dense_16_199.graph': 2, 'query_dense_16_74.graph': 8, 'query_dense_16_200.graph': 4, 'query_dense_16_25.graph': 4, 'query_dense_16_78.graph': 12, 'query_dense_16_140.graph': 8, 'query_dense_16_137.graph': 5, 'query_dense_16_166.graph': 128, 'query_dense_16_19.graph': 2, 'query_dense_16_153.graph': 10, 'query_dense_16_101.graph': 2, 'query_dense_16_148.graph': 2, 'query_dense_16_4.graph': 6, 'query_dense_16_115.graph': 10, 'query_dense_16_56.graph': 4, 'query_dense_16_44.graph': 12, 'query_dense_16_136.graph': 1, 'query_dense_16_176.graph': 12, 'query_dense_16_84.graph': 8, 'query_dense_16_197.graph': 8, 'query_dense_16_24.graph': 12, 'query_dense_16_195.graph': 2, 'query_dense_16_103.graph': 48, 'query_dense_16_146.graph': 24, 'query_dense_16_12.graph': 2, 'query_dense_16_125.graph': 8, 'query_dense_16_186.graph': 10, 'query_dense_16_178.graph': 1, 'query_dense_16_75.graph': 32, 'query_dense_16_99.graph': 260, 'query_dense_16_120.graph': 24, 'query_dense_16_134.graph': 17, 'query_dense_16_112.graph': 2, 'query_dense_16_45.graph': 8, 'query_dense_16_90.graph': 1564, 'query_dense_16_82.graph': 12, 'query_dense_16_100.graph': 16, 'query_dense_16_162.graph': 48, 'query_dense_16_126.graph': 156, 'query_dense_16_193.graph': 2, 'query_dense_16_109.graph': 68, 'query_dense_16_117.graph': 4, 'query_dense_16_59.graph': 1680, 'query_dense_16_73.graph': 6, 'query_dense_16_93.graph': 22, 'query_dense_16_63.graph': 44, 'query_dense_16_38.graph': 180, 'query_dense_16_89.graph': 12, 'query_dense_16_121.graph': 30, 'query_dense_16_192.graph': 4, 'query_dense_16_155.graph': 16, 'query_dense_16_40.graph': 12, 'query_dense_16_194.graph': 1, 'query_dense_16_77.graph': 4, 'query_dense_16_171.graph': 14, 'query_dense_16_8.graph': 560, 'query_dense_16_3.graph': 8, 'query_dense_16_105.graph': 2, 'query_dense_16_29.graph': 24, 'query_dense_16_41.graph': 8, 'query_dense_16_130.graph': 16, 'query_dense_16_128.graph': 104, 'query_dense_16_51.graph': 50, 'query_dense_16_10.graph': 32, 'query_dense_16_13.graph': 12, 'query_dense_16_122.graph': 16, 'query_dense_16_110.graph': 2, 'query_dense_16_131.graph': 3, 'query_dense_16_172.graph': 16, 'query_dense_16_184.graph': 60, 'query_dense_16_22.graph': 9, 'query_dense_16_64.graph': 1, 'query_dense_16_132.graph': 20, 'query_dense_16_182.graph': 54, 'query_dense_16_5.graph': 4, 'query_dense_16_53.graph': 12, 'query_dense_16_141.graph': 20, 'query_dense_16_80.graph': 13, 'query_dense_16_129.graph': 8, 'query_dense_16_47.graph': 16, 'query_dense_16_43.graph': 3, 'query_dense_16_61.graph': 40, 'query_dense_16_98.graph': 8, 'query_dense_16_150.graph': 6, 'query_dense_16_107.graph': 21, 'query_dense_16_67.graph': 1, 'query_dense_16_31.graph': 8, 'query_dense_16_189.graph': 1, 'query_dense_16_36.graph': 3, 'query_dense_16_127.graph': 12, 'query_dense_16_149.graph': 1, 'query_dense_16_2.graph': 80}\n"
          ]
        }
      ]
    },
    {
      "cell_type": "code",
      "source": [
        "flag = True\n",
        "for name in expects:\n",
        "  if expects[name] != queries[name]:\n",
        "    print(name)\n",
        "    flag = False\n",
        "if flag:\n",
        "  print(\"correct\")"
      ],
      "metadata": {
        "id": "lAq1a_Hd4IiF",
        "colab": {
          "base_uri": "https://localhost:8080/"
        },
        "outputId": "8f898460-9380-4599-ff20-c823611548ad"
      },
      "execution_count": null,
      "outputs": [
        {
          "output_type": "stream",
          "name": "stdout",
          "text": [
            "correct\n"
          ]
        }
      ]
    }
  ]
}