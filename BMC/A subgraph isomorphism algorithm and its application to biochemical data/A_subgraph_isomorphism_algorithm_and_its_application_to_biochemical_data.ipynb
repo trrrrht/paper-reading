{
  "nbformat": 4,
  "nbformat_minor": 0,
  "metadata": {
    "colab": {
      "name": "A subgraph isomorphism algorithm and its application to biochemical data",
      "provenance": [],
      "collapsed_sections": []
    },
    "kernelspec": {
      "name": "python3",
      "display_name": "Python 3"
    },
    "language_info": {
      "name": "python"
    }
  },
  "cells": [
    {
      "cell_type": "markdown",
      "source": [
        "**RI**"
      ],
      "metadata": {
        "id": "8c0yRY_kLf3l"
      }
    },
    {
      "cell_type": "markdown",
      "source": [
        "This is the subgraph matching algorithm from the field of bioinformation, so the idea is not very complex.\n",
        "\n",
        "The authors didn't try to reduce the search space of candidate set. Instead, they start from a **optimal search path**, and then search subgraph in the graph data based on it.\n",
        "\n",
        "At the begining of generating the search path, they select the node with **maximum degree** in the query graph as the starting node(this is reasonable, because nodes with maximum degree usually have least matching node in the data graph, which could reduce the search space.). And then to generate the following search path, they use **three conditions** to measure which node should be the next one in it. These three conditions are based on **how many hops** between current unordered node and node already in the path.\n",
        "\n",
        "The first one is that, how many nodes in the path now are the neighbors of an unselected node(**one hop**). Since we have to match the node in path one by one, if we use the node with maximum neighbors that are matched, it would reduce next search space.\n",
        "\n",
        "The second one is that, how many nodes in the path now have at least one neighbor that are neighbor of the unordered node(**two hops**). \n",
        "\n",
        "The thrid one is that, how many nodes in the path now don't have neighbor that are neighbor of the unordered node(**three or more hops**).\n",
        "\n",
        "These three conditions are the relation between current unordered node and nodes in the path. The more closer they are, the more search space they could reduce."
      ],
      "metadata": {
        "id": "WlKijNGxLgOO"
      }
    },
    {
      "cell_type": "code",
      "execution_count": 1,
      "metadata": {
        "colab": {
          "base_uri": "https://localhost:8080/"
        },
        "id": "PfCBt_1pLe2Q",
        "outputId": "a44ace2f-eeeb-46f3-cf1a-4ae01a00031a"
      },
      "outputs": [
        {
          "output_type": "stream",
          "name": "stdout",
          "text": [
            "Cloning into 'SubgraphMatching'...\n",
            "remote: Enumerating objects: 278, done.\u001b[K\n",
            "remote: Counting objects: 100% (278/278), done.\u001b[K\n",
            "remote: Compressing objects: 100% (270/270), done.\u001b[K\n",
            "remote: Total 278 (delta 9), reused 260 (delta 3), pack-reused 0\u001b[K\n",
            "Receiving objects: 100% (278/278), 2.51 MiB | 11.95 MiB/s, done.\n",
            "Resolving deltas: 100% (9/9), done.\n"
          ]
        }
      ],
      "source": [
        "!git clone https://github.com/RapidsAtHKUST/SubgraphMatching.git"
      ]
    },
    {
      "cell_type": "code",
      "source": [
        "from collections import defaultdict"
      ],
      "metadata": {
        "id": "oQP4kmUQLpLZ"
      },
      "execution_count": 2,
      "outputs": []
    },
    {
      "cell_type": "code",
      "source": [
        "class graph():\n",
        "  def __init__(self, graphid, node2label, node2degree, edges):\n",
        "    self.graphid = graphid\n",
        "    self.node2label = node2label\n",
        "    self.node2degree = node2degree\n",
        "    self.edges = edges\n",
        "    self.candidateset = defaultdict(set)\n",
        "    self.label2node = defaultdict(set)\n",
        "    for node in self.node2label:\n",
        "      self.label2node[self.node2label[node]].add(node)\n",
        "    self.phi = []\n",
        "    self.phiparent = {}\n",
        "\n",
        "  def reset(self):\n",
        "    self.candidateset = defaultdict(set)\n",
        "    self.phi = []\n",
        "    self.phiparent = {}"
      ],
      "metadata": {
        "id": "Sd2DRsYJLqKk"
      },
      "execution_count": 3,
      "outputs": []
    },
    {
      "cell_type": "code",
      "source": [
        "def get_graph(filepath, filename):\n",
        "  global qcount\n",
        "  global gcount\n",
        "\n",
        "  node2label = {}\n",
        "  node2degree = {}\n",
        "  edges = defaultdict(set)\n",
        "  f = open(filepath, \"r\", encoding=\"utf-8\")\n",
        "\n",
        "  _, nodenum, edgenum = f.readline().strip().split()\n",
        "  for i in range(int(nodenum)):\n",
        "    _, nodeid, nodelabel, nodedegree = f.readline().strip().split()\n",
        "    node2label[int(nodeid)] = int(nodelabel)\n",
        "    node2degree[int(nodeid)] = int(nodedegree)  \n",
        "  for i in range(int(edgenum)):\n",
        "    _, node1, node2 = f.readline().strip().split()\n",
        "    edges[int(node1)].add(int(node2))\n",
        "    edges[int(node2)].add(int(node1))\n",
        "\n",
        "  f.close()\n",
        "  g = graph(filename, node2label, node2degree, edges)\n",
        "\n",
        "  return g"
      ],
      "metadata": {
        "id": "qUyn9AVrLr14"
      },
      "execution_count": 4,
      "outputs": []
    },
    {
      "cell_type": "code",
      "source": [
        "qcount = 0\n",
        "gcount = 0\n",
        "\n",
        "import os\n",
        "qs = []\n",
        "qdir = \"SubgraphMatching/test/query_graph\"\n",
        "for f in os.listdir(qdir):\n",
        "  filepath = os.path.join(qdir, f)\n",
        "  qs.append(get_graph(filepath, f))\n",
        "\n",
        "gs = []\n",
        "gdir = \"SubgraphMatching/test/data_graph\"\n",
        "for f in os.listdir(gdir):\n",
        "  filepath = os.path.join(gdir, f)\n",
        "  gs.append(get_graph(filepath, f))\n",
        "\n",
        "print(len(qs))\n",
        "print(len(gs))\n",
        "\n",
        "f = open(\"SubgraphMatching/test/expected_output.res\", \"r\", encoding=\"utf-8\")\n",
        "lines = f.readlines()\n",
        "f.close()\n",
        "\n",
        "expects = {}\n",
        "for line in lines:\n",
        "  name, times = line.strip().split(\":\")\n",
        "  expects[name + \".graph\"] = int(times)\n",
        "print(len(expects))"
      ],
      "metadata": {
        "colab": {
          "base_uri": "https://localhost:8080/"
        },
        "id": "g-Lmxd_-LtkO",
        "outputId": "99e54a7e-c0d5-41d2-b984-6a245a22f7ce"
      },
      "execution_count": 5,
      "outputs": [
        {
          "output_type": "stream",
          "name": "stdout",
          "text": [
            "200\n",
            "1\n",
            "200\n"
          ]
        }
      ]
    },
    {
      "cell_type": "code",
      "source": [
        "def RI_MOG(q):\n",
        "  maxdegree = 0\n",
        "  maxnode = 0\n",
        "  visited = set()\n",
        "  for node in q.node2degree:\n",
        "    if maxdegree < q.node2degree[node]:\n",
        "      maxdegree = q.node2degree[node]\n",
        "      maxnode = node\n",
        "  visited.add(maxnode)\n",
        "  q.phi.append(maxnode)\n",
        "  q.phiparent[maxnode] = -1\n",
        "  while len(visited) != len(q.node2degree):\n",
        "    m = len(q.phi)\n",
        "    um = -1\n",
        "    urank = (-1, -1, -1)\n",
        "    for node in q.node2degree:\n",
        "      if node in visited:\n",
        "        continue\n",
        "      v1 = visited & q.edges[node]\n",
        "      v2 = set()\n",
        "      for vis in visited:\n",
        "        for vode in q.node2degree:\n",
        "          if node == vode or vode in visited:\n",
        "            continue\n",
        "          if vode in q.edges[vis] and vode in q.edges[node]:\n",
        "            v2.add(vis)\n",
        "            break\n",
        "      v3 = set()\n",
        "      for vode in q.node2degree:\n",
        "        flag = True\n",
        "        if node == vode or vode in visited:\n",
        "          continue            \n",
        "        for vis in visited:\n",
        "          if vode in q.edges[vis]:\n",
        "            flag = False\n",
        "            break\n",
        "        if flag:\n",
        "          v3.add(vode)\n",
        "      rank = (len(v1), len(v2), len(v3))\n",
        "      if urank <= rank:\n",
        "        um = node\n",
        "        urank = rank\n",
        "    for parent in q.phi:\n",
        "      if parent in q.edges[um]:\n",
        "        q.phiparent[um] = parent\n",
        "        break\n",
        "    q.phi.append(um)\n",
        "    visited.add(um)"
      ],
      "metadata": {
        "id": "r9HUX-2nLwLk"
      },
      "execution_count": 6,
      "outputs": []
    },
    {
      "cell_type": "code",
      "source": [
        "def RI_EP(q, g, m, i, totalresult): # not equal to the original code\n",
        "  if i == len(q.phi) + 1:\n",
        "    totalresult.append(m.copy())\n",
        "    return \n",
        "  result = {}\n",
        "  u = -1\n",
        "  for node in q.phi:\n",
        "    if node not in m:\n",
        "      u = node\n",
        "      break\n",
        "\n",
        "  lc = set()\n",
        "\n",
        "  if i == 1:\n",
        "    vs = g.label2node[q.node2label[u]]\n",
        "    for v in vs:\n",
        "      if g.node2degree[v] >= q.node2degree[u]:\n",
        "        lc.add(v)\n",
        "  else:\n",
        "    for v in g.edges[m[q.phiparent[u]]]:\n",
        "      if q.node2label[u] == g.node2label[v] and g.node2degree[v] >= q.node2degree[u]:\n",
        "        flag = True\n",
        "        for node in q.phi:\n",
        "          if node == u:\n",
        "            break\n",
        "          if node == q.phiparent[u]:\n",
        "            continue\n",
        "          if v == m[node] or (m[node] not in g.edges[v] and (node in q.edges[u] or u in q.edges[node])):\n",
        "            flag = False\n",
        "            break\n",
        "        if flag:\n",
        "          lc.add(v)\n",
        "\n",
        "  for node in lc:\n",
        "    if node not in set(m.values()):\n",
        "      m[u] = node\n",
        "      RI_EP(q, g, m, i + 1, totalresult)\n",
        "      m.pop(u)"
      ],
      "metadata": {
        "id": "GmZ5Oh7hLw60"
      },
      "execution_count": 7,
      "outputs": []
    },
    {
      "cell_type": "code",
      "source": [
        "queries = {}\n",
        "for g in gs:\n",
        "  for q in qs:\n",
        "    q.reset()\n",
        "    RI_MOG(q)\n",
        "    totalresult = []\n",
        "    RI_EP(q, g, {}, 1, totalresult)\n",
        "    queries[q.graphid] = len(totalresult)\n",
        "\n",
        "print(queries)"
      ],
      "metadata": {
        "colab": {
          "base_uri": "https://localhost:8080/"
        },
        "id": "uytZOodmLyzq",
        "outputId": "3de7d0a7-3098-4459-f628-bedfb6ab936b"
      },
      "execution_count": 8,
      "outputs": [
        {
          "output_type": "stream",
          "name": "stdout",
          "text": [
            "{'query_dense_16_116.graph': 1, 'query_dense_16_142.graph': 16, 'query_dense_16_63.graph': 44, 'query_dense_16_28.graph': 5, 'query_dense_16_92.graph': 18, 'query_dense_16_181.graph': 8, 'query_dense_16_76.graph': 41, 'query_dense_16_87.graph': 12, 'query_dense_16_98.graph': 8, 'query_dense_16_9.graph': 42, 'query_dense_16_23.graph': 6, 'query_dense_16_186.graph': 10, 'query_dense_16_47.graph': 16, 'query_dense_16_88.graph': 12, 'query_dense_16_71.graph': 9, 'query_dense_16_163.graph': 8, 'query_dense_16_80.graph': 13, 'query_dense_16_139.graph': 12, 'query_dense_16_141.graph': 20, 'query_dense_16_119.graph': 8, 'query_dense_16_57.graph': 3, 'query_dense_16_138.graph': 12, 'query_dense_16_140.graph': 8, 'query_dense_16_52.graph': 6, 'query_dense_16_136.graph': 1, 'query_dense_16_156.graph': 6, 'query_dense_16_200.graph': 4, 'query_dense_16_99.graph': 260, 'query_dense_16_13.graph': 12, 'query_dense_16_175.graph': 8, 'query_dense_16_130.graph': 16, 'query_dense_16_4.graph': 6, 'query_dense_16_45.graph': 8, 'query_dense_16_191.graph': 4, 'query_dense_16_184.graph': 60, 'query_dense_16_144.graph': 1, 'query_dense_16_179.graph': 184, 'query_dense_16_8.graph': 560, 'query_dense_16_126.graph': 156, 'query_dense_16_122.graph': 16, 'query_dense_16_36.graph': 3, 'query_dense_16_14.graph': 2, 'query_dense_16_56.graph': 4, 'query_dense_16_182.graph': 54, 'query_dense_16_131.graph': 3, 'query_dense_16_165.graph': 208, 'query_dense_16_167.graph': 6, 'query_dense_16_49.graph': 178, 'query_dense_16_65.graph': 2, 'query_dense_16_46.graph': 30, 'query_dense_16_160.graph': 2688, 'query_dense_16_82.graph': 12, 'query_dense_16_129.graph': 8, 'query_dense_16_178.graph': 1, 'query_dense_16_103.graph': 48, 'query_dense_16_150.graph': 6, 'query_dense_16_24.graph': 12, 'query_dense_16_62.graph': 8, 'query_dense_16_33.graph': 4, 'query_dense_16_143.graph': 4, 'query_dense_16_146.graph': 24, 'query_dense_16_100.graph': 16, 'query_dense_16_107.graph': 21, 'query_dense_16_189.graph': 1, 'query_dense_16_120.graph': 24, 'query_dense_16_149.graph': 1, 'query_dense_16_158.graph': 2, 'query_dense_16_60.graph': 10, 'query_dense_16_111.graph': 2, 'query_dense_16_159.graph': 12, 'query_dense_16_109.graph': 68, 'query_dense_16_5.graph': 4, 'query_dense_16_79.graph': 2, 'query_dense_16_30.graph': 2, 'query_dense_16_77.graph': 4, 'query_dense_16_59.graph': 1680, 'query_dense_16_26.graph': 17, 'query_dense_16_43.graph': 3, 'query_dense_16_72.graph': 24, 'query_dense_16_78.graph': 12, 'query_dense_16_74.graph': 8, 'query_dense_16_115.graph': 10, 'query_dense_16_151.graph': 138, 'query_dense_16_124.graph': 2, 'query_dense_16_199.graph': 2, 'query_dense_16_94.graph': 2, 'query_dense_16_196.graph': 2, 'query_dense_16_114.graph': 4, 'query_dense_16_75.graph': 32, 'query_dense_16_61.graph': 40, 'query_dense_16_125.graph': 8, 'query_dense_16_157.graph': 2, 'query_dense_16_148.graph': 2, 'query_dense_16_172.graph': 16, 'query_dense_16_101.graph': 2, 'query_dense_16_64.graph': 1, 'query_dense_16_44.graph': 12, 'query_dense_16_40.graph': 12, 'query_dense_16_195.graph': 2, 'query_dense_16_31.graph': 8, 'query_dense_16_58.graph': 3, 'query_dense_16_193.graph': 2, 'query_dense_16_152.graph': 432, 'query_dense_16_37.graph': 1, 'query_dense_16_96.graph': 17, 'query_dense_16_42.graph': 32, 'query_dense_16_177.graph': 72, 'query_dense_16_169.graph': 44, 'query_dense_16_15.graph': 60, 'query_dense_16_3.graph': 8, 'query_dense_16_73.graph': 6, 'query_dense_16_170.graph': 18, 'query_dense_16_22.graph': 9, 'query_dense_16_174.graph': 6, 'query_dense_16_166.graph': 128, 'query_dense_16_154.graph': 12, 'query_dense_16_134.graph': 17, 'query_dense_16_145.graph': 1, 'query_dense_16_1.graph': 3, 'query_dense_16_41.graph': 8, 'query_dense_16_68.graph': 256, 'query_dense_16_89.graph': 12, 'query_dense_16_81.graph': 124, 'query_dense_16_132.graph': 20, 'query_dense_16_187.graph': 2, 'query_dense_16_35.graph': 2, 'query_dense_16_91.graph': 3, 'query_dense_16_53.graph': 12, 'query_dense_16_197.graph': 8, 'query_dense_16_83.graph': 3, 'query_dense_16_66.graph': 3, 'query_dense_16_118.graph': 136, 'query_dense_16_133.graph': 6, 'query_dense_16_194.graph': 1, 'query_dense_16_168.graph': 75, 'query_dense_16_110.graph': 2, 'query_dense_16_85.graph': 19, 'query_dense_16_180.graph': 1, 'query_dense_16_155.graph': 16, 'query_dense_16_84.graph': 8, 'query_dense_16_104.graph': 38, 'query_dense_16_90.graph': 1564, 'query_dense_16_95.graph': 354, 'query_dense_16_48.graph': 4, 'query_dense_16_117.graph': 4, 'query_dense_16_102.graph': 8, 'query_dense_16_123.graph': 1, 'query_dense_16_12.graph': 2, 'query_dense_16_153.graph': 10, 'query_dense_16_16.graph': 4, 'query_dense_16_32.graph': 2, 'query_dense_16_185.graph': 44, 'query_dense_16_97.graph': 56, 'query_dense_16_162.graph': 48, 'query_dense_16_147.graph': 1526, 'query_dense_16_17.graph': 4, 'query_dense_16_93.graph': 22, 'query_dense_16_112.graph': 2, 'query_dense_16_86.graph': 1, 'query_dense_16_192.graph': 4, 'query_dense_16_20.graph': 2, 'query_dense_16_39.graph': 1, 'query_dense_16_127.graph': 12, 'query_dense_16_176.graph': 12, 'query_dense_16_164.graph': 480, 'query_dense_16_2.graph': 80, 'query_dense_16_173.graph': 24, 'query_dense_16_29.graph': 24, 'query_dense_16_10.graph': 32, 'query_dense_16_69.graph': 1, 'query_dense_16_55.graph': 1, 'query_dense_16_171.graph': 14, 'query_dense_16_7.graph': 2, 'query_dense_16_67.graph': 1, 'query_dense_16_50.graph': 88, 'query_dense_16_19.graph': 2, 'query_dense_16_183.graph': 4, 'query_dense_16_188.graph': 8, 'query_dense_16_34.graph': 2, 'query_dense_16_21.graph': 2, 'query_dense_16_11.graph': 288, 'query_dense_16_70.graph': 42, 'query_dense_16_137.graph': 5, 'query_dense_16_190.graph': 3, 'query_dense_16_113.graph': 6, 'query_dense_16_27.graph': 8, 'query_dense_16_106.graph': 2, 'query_dense_16_25.graph': 4, 'query_dense_16_198.graph': 15, 'query_dense_16_135.graph': 6, 'query_dense_16_121.graph': 30, 'query_dense_16_108.graph': 46, 'query_dense_16_18.graph': 2, 'query_dense_16_54.graph': 33, 'query_dense_16_38.graph': 180, 'query_dense_16_6.graph': 132, 'query_dense_16_105.graph': 2, 'query_dense_16_161.graph': 44, 'query_dense_16_128.graph': 104, 'query_dense_16_51.graph': 50}\n"
          ]
        }
      ]
    },
    {
      "cell_type": "code",
      "source": [
        "flag = True\n",
        "for name in expects:\n",
        "  if expects[name] != queries[name]:\n",
        "    print(name)\n",
        "    flag = False\n",
        "if flag:\n",
        "  print(\"correct\")"
      ],
      "metadata": {
        "colab": {
          "base_uri": "https://localhost:8080/"
        },
        "id": "cqMQ-n0WLzOl",
        "outputId": "a79a8171-8c41-4511-a5f3-f81a9cecae3a"
      },
      "execution_count": 9,
      "outputs": [
        {
          "output_type": "stream",
          "name": "stdout",
          "text": [
            "correct\n"
          ]
        }
      ]
    }
  ]
}