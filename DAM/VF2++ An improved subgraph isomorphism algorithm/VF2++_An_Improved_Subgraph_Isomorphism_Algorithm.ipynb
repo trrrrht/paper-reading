{
  "nbformat": 4,
  "nbformat_minor": 0,
  "metadata": {
    "colab": {
      "name": "VF2++ An Improved Subgraph Isomorphism Algorithm",
      "provenance": [],
      "collapsed_sections": []
    },
    "kernelspec": {
      "name": "python3",
      "display_name": "Python 3"
    },
    "language_info": {
      "name": "python"
    }
  },
  "cells": [
    {
      "cell_type": "markdown",
      "source": [
        "**VF2++**"
      ],
      "metadata": {
        "id": "JJRjeU5QzCFX"
      }
    },
    {
      "cell_type": "markdown",
      "source": [
        "This algorithm is a simple but efficient subgraph matching algorithm, which upgrades from VF, VF2, VF2+.\n",
        "\n",
        "Unlike most of the subgraph matching algorithm, this algorithm only contains two steps, matching order generation and enumeration procedure. It includes the candidates filter in the enumeration part.\n",
        "\n",
        "For the matching order generation part, they adopt the classic order, **BFS**. For each level of the BFS tree, the authors sort the nodes based on **the degree and frequency of labels**. Then they arrange all the nodes level by level.\n",
        "\n",
        "For the enumeration part, they not only just check the candidates of **before nodes** of the current node, but also check the candidates of **following nodes** to further reduce the search space."
      ],
      "metadata": {
        "id": "SrNVJXbWzCUE"
      }
    },
    {
      "cell_type": "code",
      "execution_count": null,
      "metadata": {
        "id": "sBXcxoUcJkKJ",
        "colab": {
          "base_uri": "https://localhost:8080/"
        },
        "outputId": "5539de9a-b720-4c17-c242-a82cb90a4ba1"
      },
      "outputs": [
        {
          "output_type": "stream",
          "name": "stdout",
          "text": [
            "fatal: destination path 'SubgraphMatching' already exists and is not an empty directory.\n"
          ]
        }
      ],
      "source": [
        "!git clone https://github.com/RapidsAtHKUST/SubgraphMatching.git"
      ]
    },
    {
      "cell_type": "code",
      "source": [
        "from collections import defaultdict"
      ],
      "metadata": {
        "id": "sjCym2iZKe-R"
      },
      "execution_count": null,
      "outputs": []
    },
    {
      "cell_type": "code",
      "source": [
        "class graph():\n",
        "  def __init__(self, graphid, node2label, node2degree, edges):\n",
        "    self.graphid = graphid\n",
        "    self.node2label = node2label\n",
        "    self.node2degree = node2degree\n",
        "    self.edges = edges\n",
        "    self.candidateset = defaultdict(set)\n",
        "    self.label2node = defaultdict(set)\n",
        "    for node in self.node2label:\n",
        "      self.label2node[self.node2label[node]].add(node)\n",
        "    self.phi = []\n",
        "    self.phiparent = {}\n",
        "\n",
        "  def reset(self):\n",
        "    self.candidateset = defaultdict(set)\n",
        "    self.phi = []\n",
        "    self.phiparent = {}"
      ],
      "metadata": {
        "id": "uG-ELApGKf6e"
      },
      "execution_count": null,
      "outputs": []
    },
    {
      "cell_type": "code",
      "source": [
        "def get_graph(filepath, filename):\n",
        "  global qcount\n",
        "  global gcount\n",
        "\n",
        "  node2label = {}\n",
        "  node2degree = {}\n",
        "  edges = defaultdict(set)\n",
        "  f = open(filepath, \"r\", encoding=\"utf-8\")\n",
        "\n",
        "  _, nodenum, edgenum = f.readline().strip().split()\n",
        "  for i in range(int(nodenum)):\n",
        "    _, nodeid, nodelabel, nodedegree = f.readline().strip().split()\n",
        "    node2label[int(nodeid)] = int(nodelabel)\n",
        "    node2degree[int(nodeid)] = int(nodedegree)  \n",
        "  for i in range(int(edgenum)):\n",
        "    _, node1, node2 = f.readline().strip().split()\n",
        "    edges[int(node1)].add(int(node2))\n",
        "    edges[int(node2)].add(int(node1))\n",
        "\n",
        "  f.close()\n",
        "  g = graph(filename, node2label, node2degree, edges)\n",
        "\n",
        "  return g"
      ],
      "metadata": {
        "id": "5F9V6ev0Kg-1"
      },
      "execution_count": null,
      "outputs": []
    },
    {
      "cell_type": "code",
      "source": [
        "qcount = 0\n",
        "gcount = 0\n",
        "\n",
        "import os\n",
        "qs = []\n",
        "qdir = \"SubgraphMatching/test/query_graph\"\n",
        "for f in os.listdir(qdir):\n",
        "  filepath = os.path.join(qdir, f)\n",
        "  qs.append(get_graph(filepath, f))\n",
        "\n",
        "gs = []\n",
        "gdir = \"SubgraphMatching/test/data_graph\"\n",
        "for f in os.listdir(gdir):\n",
        "  filepath = os.path.join(gdir, f)\n",
        "  gs.append(get_graph(filepath, f))\n",
        "\n",
        "print(len(qs))\n",
        "print(len(gs))\n",
        "\n",
        "f = open(\"SubgraphMatching/test/expected_output.res\", \"r\", encoding=\"utf-8\")\n",
        "lines = f.readlines()\n",
        "f.close()\n",
        "\n",
        "expects = {}\n",
        "for line in lines:\n",
        "  name, times = line.strip().split(\":\")\n",
        "  expects[name + \".graph\"] = int(times)\n",
        "print(len(expects))"
      ],
      "metadata": {
        "id": "WOWOYfF7KiGU",
        "colab": {
          "base_uri": "https://localhost:8080/"
        },
        "outputId": "1ac393ec-7691-4424-b123-1caefb0151c8"
      },
      "execution_count": null,
      "outputs": [
        {
          "output_type": "stream",
          "name": "stdout",
          "text": [
            "200\n",
            "1\n",
            "200\n"
          ]
        }
      ]
    },
    {
      "cell_type": "code",
      "source": [
        "def VF2PP_CSG(q, g):\n",
        "  return"
      ],
      "metadata": {
        "id": "1hQKG3xHKjVH"
      },
      "execution_count": null,
      "outputs": []
    },
    {
      "cell_type": "code",
      "source": [
        "def VF2PP_MOG(q, g):\n",
        "  glabelfreq = defaultdict(int)\n",
        "  for gnode in g.node2label:\n",
        "    glabelfreq[g.node2label[gnode]] += 1\n",
        "  \n",
        "  qlabels = set()\n",
        "  for label in q.label2node:\n",
        "    qlabels.add(label)\n",
        "\n",
        "  minfreq = len(g.node2label)\n",
        "  minlabels = set()\n",
        "  for label in qlabels:\n",
        "    if minfreq > glabelfreq[label]:\n",
        "      minfreq = glabelfreq[label]\n",
        "      minlabels = set()\n",
        "      minlabels.add(label)\n",
        "    elif minfreq == glabelfreq[label]:\n",
        "      minlabels.add(label)\n",
        "  \n",
        "  \n",
        "  rs = set()\n",
        "  for label in minlabels:\n",
        "    rs |= q.label2node[label]\n",
        "  \n",
        "  maxdegree = 0\n",
        "  for r in rs:\n",
        "    if maxdegree < q.node2degree[r]:\n",
        "      maxdegree = q.node2degree[r]\n",
        "  \n",
        "  root = -1\n",
        "  for r in rs:\n",
        "    if maxdegree == q.node2degree[r]:\n",
        "      root = r\n",
        "      break\n",
        "  \n",
        "  node2level = {}\n",
        "  visited = set()\n",
        "  queue = []\n",
        "  visited.add(root)\n",
        "  node2level[root] = 1\n",
        "  maxlevel = 1\n",
        "  queue.append(root)\n",
        "  while queue:\n",
        "    top = queue[0]\n",
        "    queue.pop(0)\n",
        "    for neighbor in q.edges[top]:\n",
        "      if neighbor not in visited:\n",
        "        node2level[neighbor] = node2level[top] + 1\n",
        "        maxlevel = max(maxlevel, node2level[neighbor])\n",
        "        visited.add(neighbor)\n",
        "        queue.append(neighbor)\n",
        "\n",
        "  level2node = defaultdict(set)\n",
        "  for node in node2level:\n",
        "    level2node[node2level[node]].add(node)\n",
        "\n",
        "\n",
        "  curlevel = 1\n",
        "  while curlevel <= maxlevel:\n",
        "    while level2node[curlevel].copy():\n",
        "      maxneighbor = 0\n",
        "      maxnodes = set()\n",
        "      for node in level2node[curlevel]:\n",
        "        neighbornum = len(q.edges[node] & set(q.phi))\n",
        "        if neighbornum > maxneighbor:\n",
        "          maxneighbor = neighbornum\n",
        "          maxnodes = set()\n",
        "          maxnodes.add(node)\n",
        "        elif neighbornum == maxneighbor:\n",
        "          maxnodes.add(node)\n",
        "\n",
        "      maxdegrees = set()\n",
        "      maxdegree = 0\n",
        "      for node in maxnodes:\n",
        "        if maxdegree < q.node2degree[node]:\n",
        "          maxdegree = q.node2degree[node]\n",
        "          maxdegrees = set()\n",
        "          maxdegrees.add(node)\n",
        "        elif maxdegree == q.node2degree[node]:\n",
        "          maxdegrees.add(node)\n",
        "\n",
        "      minlabels = set()\n",
        "      minlabel = len(g.node2label)\n",
        "      for node in maxdegrees:\n",
        "        if minlabel > len(g.label2node[q.node2label[node]]):\n",
        "          minlabel = len(g.label2node[q.node2label[node]])\n",
        "          minlabels = set()\n",
        "          minlabels.add(node)\n",
        "        elif minlabel == len(g.label2node[q.node2label[node]]):\n",
        "          minlabels.add(node)\n",
        "      curnode = list(minlabels)[0]\n",
        "      q.phi.append(curnode)\n",
        "      level2node[curlevel].remove(curnode)\n",
        "    curlevel += 1\n",
        "\n",
        "  q.phiparent[root] = -1\n",
        "  for i in range(len(q.phi)):\n",
        "    for j in range(i):\n",
        "      if q.phi[j] in q.edges[q.phi[i]]:\n",
        "        q.phiparent[q.phi[i]] = q.phi[j]\n",
        "        break\n",
        "\n",
        "  return"
      ],
      "metadata": {
        "id": "zdiZSxdEKlpm"
      },
      "execution_count": null,
      "outputs": []
    },
    {
      "cell_type": "code",
      "source": [
        "def VF2PP_EP(q, g, m, i, totalresult): # not equal to the original code\n",
        "  if i == len(q.phi) + 1:\n",
        "    totalresult.append(m.copy())\n",
        "    return \n",
        "  result = {}\n",
        "  u = -1\n",
        "  for node in q.phi:\n",
        "    if node not in m:\n",
        "      u = node\n",
        "      break\n",
        "\n",
        "  lc = set()\n",
        "\n",
        "  if i == 1:\n",
        "    vs = g.label2node[q.node2label[u]]\n",
        "    for v in vs:\n",
        "      if g.node2degree[v] >= q.node2degree[u]:\n",
        "        lc.add(v)\n",
        "  else:\n",
        "    for v in g.edges[m[q.phiparent[u]]]:\n",
        "      if q.node2label[u] == g.node2label[v] and g.node2degree[v] >= q.node2degree[u]:\n",
        "        flag = True\n",
        "        for node in q.phi:\n",
        "          if node == u:\n",
        "            break\n",
        "          if node == q.phiparent[u]:\n",
        "            continue\n",
        "          if v == m[node] or (m[node] not in g.edges[v] and (node in q.edges[u] or u in q.edges[node])):\n",
        "            flag = False\n",
        "            break\n",
        "        if flag:\n",
        "          lc.add(v)\n",
        "    \n",
        "    reverseorder = q.phi.copy()\n",
        "    reverseorder.reverse()\n",
        "    qlabels = defaultdict(int)\n",
        "    for node in reverseorder:\n",
        "      if node == u:\n",
        "        break\n",
        "      if node not in q.edges[u]:\n",
        "        continue\n",
        "      qlabels[q.node2label[node]] += 1\n",
        "    \n",
        "    \n",
        "    for v in lc.copy():\n",
        "      glabels = defaultdict(int)\n",
        "      vneighbors = g.edges[v]\n",
        "      for vneighbor in vneighbors:\n",
        "        if vneighbor not in set(m.values()):\n",
        "          glabels[g.node2label[vneighbor]] += 1\n",
        "\n",
        "      for qlabel in qlabels:\n",
        "        if qlabels[qlabel] > glabels[qlabel]:\n",
        "          lc.remove(v)\n",
        "          break\n",
        "\n",
        "  for node in lc:\n",
        "    if node not in set(m.values()):\n",
        "      m[u] = node\n",
        "      VF2PP_EP(q, g, m, i + 1, totalresult)\n",
        "      m.pop(u)"
      ],
      "metadata": {
        "id": "e1_T0vnPKmBp"
      },
      "execution_count": null,
      "outputs": []
    },
    {
      "cell_type": "code",
      "source": [
        "queries = {}\n",
        "for g in gs:\n",
        "  for q in qs:\n",
        "    q.reset()\n",
        "    VF2PP_CSG(q, g)\n",
        "    VF2PP_MOG(q, g)\n",
        "    totalresult = []\n",
        "    VF2PP_EP(q, g, {}, 1, totalresult)\n",
        "    queries[q.graphid] = len(totalresult)\n",
        "\n",
        "print(queries)"
      ],
      "metadata": {
        "id": "gT6Mr7dNKmYL",
        "colab": {
          "base_uri": "https://localhost:8080/"
        },
        "outputId": "b38138be-d75e-4743-afe1-fbd9f8f809c9"
      },
      "execution_count": null,
      "outputs": [
        {
          "output_type": "stream",
          "name": "stdout",
          "text": [
            "{'query_dense_16_62.graph': 8, 'query_dense_16_46.graph': 30, 'query_dense_16_74.graph': 8, 'query_dense_16_113.graph': 6, 'query_dense_16_172.graph': 16, 'query_dense_16_170.graph': 18, 'query_dense_16_142.graph': 16, 'query_dense_16_98.graph': 8, 'query_dense_16_37.graph': 1, 'query_dense_16_114.graph': 4, 'query_dense_16_132.graph': 20, 'query_dense_16_165.graph': 208, 'query_dense_16_94.graph': 2, 'query_dense_16_68.graph': 256, 'query_dense_16_9.graph': 42, 'query_dense_16_39.graph': 1, 'query_dense_16_70.graph': 42, 'query_dense_16_196.graph': 2, 'query_dense_16_84.graph': 8, 'query_dense_16_22.graph': 9, 'query_dense_16_6.graph': 132, 'query_dense_16_107.graph': 21, 'query_dense_16_4.graph': 6, 'query_dense_16_1.graph': 3, 'query_dense_16_146.graph': 24, 'query_dense_16_112.graph': 2, 'query_dense_16_141.graph': 20, 'query_dense_16_139.graph': 12, 'query_dense_16_160.graph': 2688, 'query_dense_16_136.graph': 1, 'query_dense_16_179.graph': 184, 'query_dense_16_19.graph': 2, 'query_dense_16_17.graph': 4, 'query_dense_16_48.graph': 4, 'query_dense_16_175.graph': 8, 'query_dense_16_115.graph': 10, 'query_dense_16_111.graph': 2, 'query_dense_16_177.graph': 72, 'query_dense_16_127.graph': 12, 'query_dense_16_96.graph': 17, 'query_dense_16_56.graph': 4, 'query_dense_16_126.graph': 156, 'query_dense_16_47.graph': 16, 'query_dense_16_104.graph': 38, 'query_dense_16_36.graph': 3, 'query_dense_16_188.graph': 8, 'query_dense_16_58.graph': 3, 'query_dense_16_158.graph': 2, 'query_dense_16_64.graph': 1, 'query_dense_16_14.graph': 2, 'query_dense_16_116.graph': 1, 'query_dense_16_182.graph': 54, 'query_dense_16_3.graph': 8, 'query_dense_16_60.graph': 10, 'query_dense_16_27.graph': 8, 'query_dense_16_86.graph': 1, 'query_dense_16_151.graph': 138, 'query_dense_16_16.graph': 4, 'query_dense_16_149.graph': 1, 'query_dense_16_13.graph': 12, 'query_dense_16_164.graph': 480, 'query_dense_16_128.graph': 104, 'query_dense_16_190.graph': 3, 'query_dense_16_2.graph': 80, 'query_dense_16_153.graph': 10, 'query_dense_16_101.graph': 2, 'query_dense_16_33.graph': 4, 'query_dense_16_198.graph': 15, 'query_dense_16_176.graph': 12, 'query_dense_16_73.graph': 6, 'query_dense_16_163.graph': 8, 'query_dense_16_143.graph': 4, 'query_dense_16_155.graph': 16, 'query_dense_16_110.graph': 2, 'query_dense_16_195.graph': 2, 'query_dense_16_97.graph': 56, 'query_dense_16_81.graph': 124, 'query_dense_16_102.graph': 8, 'query_dense_16_124.graph': 2, 'query_dense_16_78.graph': 12, 'query_dense_16_125.graph': 8, 'query_dense_16_71.graph': 9, 'query_dense_16_99.graph': 260, 'query_dense_16_108.graph': 46, 'query_dense_16_55.graph': 1, 'query_dense_16_21.graph': 2, 'query_dense_16_173.graph': 24, 'query_dense_16_45.graph': 8, 'query_dense_16_147.graph': 1526, 'query_dense_16_152.graph': 432, 'query_dense_16_122.graph': 16, 'query_dense_16_26.graph': 17, 'query_dense_16_120.graph': 24, 'query_dense_16_8.graph': 560, 'query_dense_16_31.graph': 8, 'query_dense_16_63.graph': 44, 'query_dense_16_145.graph': 1, 'query_dense_16_29.graph': 24, 'query_dense_16_77.graph': 4, 'query_dense_16_166.graph': 128, 'query_dense_16_171.graph': 14, 'query_dense_16_157.graph': 2, 'query_dense_16_43.graph': 3, 'query_dense_16_123.graph': 1, 'query_dense_16_44.graph': 12, 'query_dense_16_192.graph': 4, 'query_dense_16_154.graph': 12, 'query_dense_16_148.graph': 2, 'query_dense_16_117.graph': 4, 'query_dense_16_191.graph': 4, 'query_dense_16_169.graph': 44, 'query_dense_16_161.graph': 44, 'query_dense_16_53.graph': 12, 'query_dense_16_129.graph': 8, 'query_dense_16_193.graph': 2, 'query_dense_16_178.graph': 1, 'query_dense_16_49.graph': 178, 'query_dense_16_87.graph': 12, 'query_dense_16_162.graph': 48, 'query_dense_16_80.graph': 13, 'query_dense_16_185.graph': 44, 'query_dense_16_11.graph': 288, 'query_dense_16_103.graph': 48, 'query_dense_16_30.graph': 2, 'query_dense_16_89.graph': 12, 'query_dense_16_194.graph': 1, 'query_dense_16_65.graph': 2, 'query_dense_16_20.graph': 2, 'query_dense_16_133.graph': 6, 'query_dense_16_25.graph': 4, 'query_dense_16_130.graph': 16, 'query_dense_16_59.graph': 1680, 'query_dense_16_66.graph': 3, 'query_dense_16_92.graph': 18, 'query_dense_16_150.graph': 6, 'query_dense_16_93.graph': 22, 'query_dense_16_156.graph': 6, 'query_dense_16_138.graph': 12, 'query_dense_16_159.graph': 12, 'query_dense_16_85.graph': 19, 'query_dense_16_5.graph': 4, 'query_dense_16_38.graph': 180, 'query_dense_16_200.graph': 4, 'query_dense_16_95.graph': 354, 'query_dense_16_134.graph': 17, 'query_dense_16_90.graph': 1564, 'query_dense_16_100.graph': 16, 'query_dense_16_83.graph': 3, 'query_dense_16_23.graph': 6, 'query_dense_16_167.graph': 6, 'query_dense_16_28.graph': 5, 'query_dense_16_183.graph': 4, 'query_dense_16_61.graph': 40, 'query_dense_16_54.graph': 33, 'query_dense_16_140.graph': 8, 'query_dense_16_50.graph': 88, 'query_dense_16_144.graph': 1, 'query_dense_16_88.graph': 12, 'query_dense_16_181.graph': 8, 'query_dense_16_186.graph': 10, 'query_dense_16_91.graph': 3, 'query_dense_16_18.graph': 2, 'query_dense_16_10.graph': 32, 'query_dense_16_57.graph': 3, 'query_dense_16_41.graph': 8, 'query_dense_16_76.graph': 41, 'query_dense_16_197.graph': 8, 'query_dense_16_137.graph': 5, 'query_dense_16_67.graph': 1, 'query_dense_16_12.graph': 2, 'query_dense_16_106.graph': 2, 'query_dense_16_184.graph': 60, 'query_dense_16_15.graph': 60, 'query_dense_16_187.graph': 2, 'query_dense_16_69.graph': 1, 'query_dense_16_72.graph': 24, 'query_dense_16_121.graph': 30, 'query_dense_16_118.graph': 136, 'query_dense_16_109.graph': 68, 'query_dense_16_105.graph': 2, 'query_dense_16_32.graph': 2, 'query_dense_16_180.graph': 1, 'query_dense_16_7.graph': 2, 'query_dense_16_40.graph': 12, 'query_dense_16_52.graph': 6, 'query_dense_16_42.graph': 32, 'query_dense_16_168.graph': 75, 'query_dense_16_135.graph': 6, 'query_dense_16_34.graph': 2, 'query_dense_16_24.graph': 12, 'query_dense_16_82.graph': 12, 'query_dense_16_199.graph': 2, 'query_dense_16_174.graph': 6, 'query_dense_16_119.graph': 8, 'query_dense_16_79.graph': 2, 'query_dense_16_75.graph': 32, 'query_dense_16_51.graph': 50, 'query_dense_16_131.graph': 3, 'query_dense_16_189.graph': 1, 'query_dense_16_35.graph': 2}\n"
          ]
        }
      ]
    },
    {
      "cell_type": "code",
      "source": [
        "flag = True\n",
        "for name in expects:\n",
        "  if expects[name] != queries[name]:\n",
        "    print(name)\n",
        "    flag = False\n",
        "if flag:\n",
        "  print(\"correct\")"
      ],
      "metadata": {
        "id": "KQfDMfgXKnWR",
        "colab": {
          "base_uri": "https://localhost:8080/"
        },
        "outputId": "54fa7415-cbb4-45fe-e831-ffdbacdb0cb9"
      },
      "execution_count": null,
      "outputs": [
        {
          "output_type": "stream",
          "name": "stdout",
          "text": [
            "correct\n"
          ]
        }
      ]
    }
  ]
}